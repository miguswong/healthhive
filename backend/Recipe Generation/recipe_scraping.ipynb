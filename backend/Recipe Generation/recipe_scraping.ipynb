{
 "cells": [
  {
   "cell_type": "markdown",
   "id": "b741b22e",
   "metadata": {},
   "source": [
    "# Web Scraping Recipes from websites"
   ]
  },
  {
   "cell_type": "code",
   "execution_count": 2,
   "id": "1aa7dad1",
   "metadata": {},
   "outputs": [
    {
     "name": "stdout",
     "output_type": "stream",
     "text": [
      "Collecting openai\n",
      "  Downloading openai-1.97.1-py3-none-any.whl.metadata (29 kB)\n",
      "Requirement already satisfied: anyio<5,>=3.5.0 in c:\\users\\migus\\northwestern\\msds498 - capstone project\\venv\\lib\\site-packages (from openai) (3.7.1)\n",
      "Collecting distro<2,>=1.7.0 (from openai)\n",
      "  Downloading distro-1.9.0-py3-none-any.whl.metadata (6.8 kB)\n",
      "Collecting httpx<1,>=0.23.0 (from openai)\n",
      "  Downloading httpx-0.28.1-py3-none-any.whl.metadata (7.1 kB)\n",
      "Collecting jiter<1,>=0.4.0 (from openai)\n",
      "  Downloading jiter-0.10.0-cp312-cp312-win_amd64.whl.metadata (5.3 kB)\n",
      "Requirement already satisfied: pydantic<3,>=1.9.0 in c:\\users\\migus\\northwestern\\msds498 - capstone project\\venv\\lib\\site-packages (from openai) (2.5.0)\n",
      "Requirement already satisfied: sniffio in c:\\users\\migus\\northwestern\\msds498 - capstone project\\venv\\lib\\site-packages (from openai) (1.3.1)\n",
      "Collecting tqdm>4 (from openai)\n",
      "  Using cached tqdm-4.67.1-py3-none-any.whl.metadata (57 kB)\n",
      "Requirement already satisfied: typing-extensions<5,>=4.11 in c:\\users\\migus\\northwestern\\msds498 - capstone project\\venv\\lib\\site-packages (from openai) (4.14.1)\n",
      "Requirement already satisfied: idna>=2.8 in c:\\users\\migus\\northwestern\\msds498 - capstone project\\venv\\lib\\site-packages (from anyio<5,>=3.5.0->openai) (3.10)\n",
      "Requirement already satisfied: certifi in c:\\users\\migus\\northwestern\\msds498 - capstone project\\venv\\lib\\site-packages (from httpx<1,>=0.23.0->openai) (2025.7.14)\n",
      "Collecting httpcore==1.* (from httpx<1,>=0.23.0->openai)\n",
      "  Downloading httpcore-1.0.9-py3-none-any.whl.metadata (21 kB)\n",
      "Requirement already satisfied: h11>=0.16 in c:\\users\\migus\\northwestern\\msds498 - capstone project\\venv\\lib\\site-packages (from httpcore==1.*->httpx<1,>=0.23.0->openai) (0.16.0)\n",
      "Requirement already satisfied: annotated-types>=0.4.0 in c:\\users\\migus\\northwestern\\msds498 - capstone project\\venv\\lib\\site-packages (from pydantic<3,>=1.9.0->openai) (0.7.0)\n",
      "Requirement already satisfied: pydantic-core==2.14.1 in c:\\users\\migus\\northwestern\\msds498 - capstone project\\venv\\lib\\site-packages (from pydantic<3,>=1.9.0->openai) (2.14.1)\n",
      "Requirement already satisfied: colorama in c:\\users\\migus\\northwestern\\msds498 - capstone project\\venv\\lib\\site-packages (from tqdm>4->openai) (0.4.6)\n",
      "Downloading openai-1.97.1-py3-none-any.whl (764 kB)\n",
      "   ---------------------------------------- 0.0/764.4 kB ? eta -:--:--\n",
      "   ---------------------------------------- 0.0/764.4 kB ? eta -:--:--\n",
      "   ---------------------------------------- 0.0/764.4 kB ? eta -:--:--\n",
      "   ---------------------------------------- 0.0/764.4 kB ? eta -:--:--\n",
      "   --------------------------- ------------ 524.3/764.4 kB 1.9 MB/s eta 0:00:01\n",
      "   ---------------------------------------- 764.4/764.4 kB 1.7 MB/s eta 0:00:00\n",
      "Downloading distro-1.9.0-py3-none-any.whl (20 kB)\n",
      "Downloading httpx-0.28.1-py3-none-any.whl (73 kB)\n",
      "Downloading httpcore-1.0.9-py3-none-any.whl (78 kB)\n",
      "Downloading jiter-0.10.0-cp312-cp312-win_amd64.whl (206 kB)\n",
      "Using cached tqdm-4.67.1-py3-none-any.whl (78 kB)\n",
      "Installing collected packages: tqdm, jiter, httpcore, distro, httpx, openai\n",
      "Successfully installed distro-1.9.0 httpcore-1.0.9 httpx-0.28.1 jiter-0.10.0 openai-1.97.1 tqdm-4.67.1\n"
     ]
    },
    {
     "name": "stderr",
     "output_type": "stream",
     "text": [
      "\n",
      "[notice] A new release of pip is available: 25.0.1 -> 25.1.1\n",
      "[notice] To update, run: python.exe -m pip install --upgrade pip\n"
     ]
    }
   ],
   "source": [
    "!pip install openai"
   ]
  },
  {
   "cell_type": "code",
   "execution_count": null,
   "id": "5a122c3d",
   "metadata": {},
   "outputs": [],
   "source": [
    "import openai\n",
    "import os\n",
    "from openai import OpenAI\n",
    "\n",
    "\n",
    "client = OpenAI(api_key=os.getenv(\"OPENAI_API_KEY\"))\n",
    "\n",
    "def chat_with_gpt(messages, model=\"gpt-3.5-turbo\"):\n",
    "    # 3. Call the method on the client instance\n",
    "    response = client.chat.completions.create(\n",
    "        model=model,\n",
    "        messages=messages\n",
    "    )\n",
    "\n",
    "    return response.choices[0].message.content\n"
   ]
  },
  {
   "cell_type": "code",
   "execution_count": 19,
   "id": "a08c8482",
   "metadata": {},
   "outputs": [],
   "source": [
    "def generate_recipe_with_gpt(user_directions, model=\"gpt-3.5-turbo\"):\n",
    "    \"\"\"\n",
    "    Prompts ChatGPT to generate a recipe in JSON format given user directions.\n",
    "    The response will contain:\n",
    "        - recipe_name\n",
    "        - recipe_type (Omnivore, Vegan, Keto, Paleo, or Vegetarian)\n",
    "        - ingredients (bulleted list)\n",
    "        - instructions (numbered list)\n",
    "        - calories per serving\n",
    "        - fats per serving\n",
    "        - carbs per serving\n",
    "        - extra_categories (any other useful tags)\n",
    "    \"\"\"\n",
    "    system_prompt = (\n",
    "        \"You are a helpful assistant that generates recipes in JSON format. \"\n",
    "        \"Given user directions, output a recipe as a JSON object with the following fields: \"\n",
    "        \"recipe_name, recipe_type (Omnivore, Vegan, Keto, Paleo, or Vegetarian), \"\n",
    "        \"ingredients (as a bulleted list), instructions (as a numbered list), \"\n",
    "        \"calories (per serving), fat (per serving), carbs (per serving), \"\n",
    "        \"and extra_categories (any other useful tags). \"\n",
    "        \"Respond ONLY with the JSON object.\"\n",
    "        \"If you cannot generate a recipe, return an empty JSON object.\"\n",
    "    )\n",
    "    messages = [\n",
    "        {\"role\": \"system\", \"content\": system_prompt},\n",
    "        {\"role\": \"user\", \"content\": user_directions}\n",
    "    ]\n",
    "    # Use the chat_with_gpt function defined earlier\n",
    "    response = chat_with_gpt(messages, model=model)\n",
    "    return response\n"
   ]
  },
  {
   "cell_type": "code",
   "execution_count": 20,
   "id": "218d4027",
   "metadata": {},
   "outputs": [
    {
     "data": {
      "text/plain": [
       "'{\\n    \"recipe_name\": \"Vegan Lasagna\",\\n    \"recipe_type\": \"Vegan\",\\n    \"ingredients\": [\\n        \"1 box lasagna noodles\",\\n        \"2 cups marinara sauce\",\\n        \"1 block firm tofu, crumbled\",\\n        \"2 cups spinach, chopped\",\\n        \"1 onion, chopped\",\\n        \"2 cloves garlic, minced\",\\n        \"1 cup cashews, soaked and blended\",\\n        \"1/2 cup nutritional yeast\",\\n        \"1 tsp dried basil\",\\n        \"1 tsp dried oregano\",\\n        \"Salt and pepper to taste\"\\n    ],\\n    \"instructions\": [\\n        \"Preheat oven to 375°F (190°C).\",\\n        \"In a pan, sauté onion and garlic until translucent.\",\\n        \"Add crumbled tofu, spinach, basil, oregano, salt, and pepper. Cook for 5-7 minutes.\",\\n        \"In a blender, combine soaked cashews, nutritional yeast, and 1 cup of water. Blend until smooth.\",\\n        \"In a baking dish, layer marinara sauce, lasagna noodles, tofu-spinach mixture, and cashew cheese. Repeat until all ingredients are used up, ending with cashew cheese on top.\",\\n        \"Cover with foil and bake for 30 minutes. Remove foil and bake for an additional 10 minutes.\",\\n        \"Let cool slightly before serving.\",\\n        \"Enjoy your delicious vegan lasagna!\"\\n    ],\\n    \"calories\": \"350\",\\n    \"fat\": \"12g\",\\n    \"carbs\": \"45g\",\\n    \"extra_categories\": [\\n        \"dairy-free\",\\n        \"gluten-free\"\\n    ]\\n}'"
      ]
     },
     "execution_count": 20,
     "metadata": {},
     "output_type": "execute_result"
    }
   ],
   "source": [
    "user_directions = \"I want to make a recipe for a vegan lasagna.\"\n",
    "\n",
    "generate_recipe_with_gpt(user_directions)"
   ]
  }
 ],
 "metadata": {
  "kernelspec": {
   "display_name": "venv",
   "language": "python",
   "name": "python3"
  },
  "language_info": {
   "codemirror_mode": {
    "name": "ipython",
    "version": 3
   },
   "file_extension": ".py",
   "mimetype": "text/x-python",
   "name": "python",
   "nbconvert_exporter": "python",
   "pygments_lexer": "ipython3",
   "version": "3.12.10"
  }
 },
 "nbformat": 4,
 "nbformat_minor": 5
}
